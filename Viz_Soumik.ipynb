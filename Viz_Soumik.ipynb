{
 "cells": [
  {
   "cell_type": "code",
   "execution_count": 1,
   "metadata": {},
   "outputs": [],
   "source": [
    "import pandas as pd\n",
    "import numpy as np"
   ]
  },
  {
   "cell_type": "code",
   "execution_count": 6,
   "metadata": {},
   "outputs": [],
   "source": [
    "dataset = pd.read_excel(\"ClickStream_C3.xlsx\")"
   ]
  },
  {
   "cell_type": "code",
   "execution_count": 11,
   "metadata": {},
   "outputs": [
    {
     "data": {
      "text/html": [
       "<div>\n",
       "<style scoped>\n",
       "    .dataframe tbody tr th:only-of-type {\n",
       "        vertical-align: middle;\n",
       "    }\n",
       "\n",
       "    .dataframe tbody tr th {\n",
       "        vertical-align: top;\n",
       "    }\n",
       "\n",
       "    .dataframe thead th {\n",
       "        text-align: right;\n",
       "    }\n",
       "</style>\n",
       "<table border=\"1\" class=\"dataframe\">\n",
       "  <thead>\n",
       "    <tr style=\"text-align: right;\">\n",
       "      <th></th>\n",
       "      <th>ip</th>\n",
       "      <th>login_or_not</th>\n",
       "      <th>#page_view</th>\n",
       "      <th>page_view_time_seconds_avg</th>\n",
       "      <th>#page_product_view</th>\n",
       "      <th>page_product_time_avg</th>\n",
       "      <th>number_searches</th>\n",
       "      <th>#times_check_shoppingcart</th>\n",
       "      <th>read_Q&amp;A</th>\n",
       "      <th>read_product_definition</th>\n",
       "      <th>previous_site</th>\n",
       "      <th>time_of_day</th>\n",
       "      <th>purchase</th>\n",
       "    </tr>\n",
       "  </thead>\n",
       "  <tbody>\n",
       "    <tr>\n",
       "      <th>0</th>\n",
       "      <td>1872847644</td>\n",
       "      <td>0</td>\n",
       "      <td>1</td>\n",
       "      <td>0.000000</td>\n",
       "      <td>0</td>\n",
       "      <td>0.000000</td>\n",
       "      <td>0</td>\n",
       "      <td>0</td>\n",
       "      <td>1</td>\n",
       "      <td>0</td>\n",
       "      <td>1</td>\n",
       "      <td>4</td>\n",
       "      <td>0</td>\n",
       "    </tr>\n",
       "    <tr>\n",
       "      <th>1</th>\n",
       "      <td>2099712166</td>\n",
       "      <td>0</td>\n",
       "      <td>1</td>\n",
       "      <td>0.000000</td>\n",
       "      <td>0</td>\n",
       "      <td>0.000000</td>\n",
       "      <td>0</td>\n",
       "      <td>0</td>\n",
       "      <td>0</td>\n",
       "      <td>1</td>\n",
       "      <td>2</td>\n",
       "      <td>3</td>\n",
       "      <td>0</td>\n",
       "    </tr>\n",
       "    <tr>\n",
       "      <th>2</th>\n",
       "      <td>2916141994</td>\n",
       "      <td>0</td>\n",
       "      <td>4</td>\n",
       "      <td>375.250000</td>\n",
       "      <td>0</td>\n",
       "      <td>0.000000</td>\n",
       "      <td>0</td>\n",
       "      <td>0</td>\n",
       "      <td>1</td>\n",
       "      <td>0</td>\n",
       "      <td>5</td>\n",
       "      <td>4</td>\n",
       "      <td>0</td>\n",
       "    </tr>\n",
       "    <tr>\n",
       "      <th>3</th>\n",
       "      <td>3029974007</td>\n",
       "      <td>0</td>\n",
       "      <td>7</td>\n",
       "      <td>16.369881</td>\n",
       "      <td>0</td>\n",
       "      <td>0.000000</td>\n",
       "      <td>0</td>\n",
       "      <td>0</td>\n",
       "      <td>1</td>\n",
       "      <td>1</td>\n",
       "      <td>5</td>\n",
       "      <td>1</td>\n",
       "      <td>0</td>\n",
       "    </tr>\n",
       "    <tr>\n",
       "      <th>4</th>\n",
       "      <td>3059224150</td>\n",
       "      <td>0</td>\n",
       "      <td>18</td>\n",
       "      <td>33.722222</td>\n",
       "      <td>7</td>\n",
       "      <td>26.714286</td>\n",
       "      <td>2</td>\n",
       "      <td>1</td>\n",
       "      <td>0</td>\n",
       "      <td>0</td>\n",
       "      <td>5</td>\n",
       "      <td>3</td>\n",
       "      <td>0</td>\n",
       "    </tr>\n",
       "  </tbody>\n",
       "</table>\n",
       "</div>"
      ],
      "text/plain": [
       "           ip  login_or_not  #page_view  page_view_time_seconds_avg  \\\n",
       "0  1872847644             0           1                    0.000000   \n",
       "1  2099712166             0           1                    0.000000   \n",
       "2  2916141994             0           4                  375.250000   \n",
       "3  3029974007             0           7                   16.369881   \n",
       "4  3059224150             0          18                   33.722222   \n",
       "\n",
       "   #page_product_view  page_product_time_avg  number_searches  \\\n",
       "0                   0               0.000000                0   \n",
       "1                   0               0.000000                0   \n",
       "2                   0               0.000000                0   \n",
       "3                   0               0.000000                0   \n",
       "4                   7              26.714286                2   \n",
       "\n",
       "   #times_check_shoppingcart  read_Q&A  read_product_definition  \\\n",
       "0                          0         1                        0   \n",
       "1                          0         0                        1   \n",
       "2                          0         1                        0   \n",
       "3                          0         1                        1   \n",
       "4                          1         0                        0   \n",
       "\n",
       "   previous_site  time_of_day  purchase  \n",
       "0              1            4         0  \n",
       "1              2            3         0  \n",
       "2              5            4         0  \n",
       "3              5            1         0  \n",
       "4              5            3         0  "
      ]
     },
     "execution_count": 11,
     "metadata": {},
     "output_type": "execute_result"
    }
   ],
   "source": [
    "dataset.head()"
   ]
  },
  {
   "cell_type": "code",
   "execution_count": 12,
   "metadata": {},
   "outputs": [],
   "source": [
    "from matplotlib import pyplot as plt"
   ]
  },
  {
   "cell_type": "code",
   "execution_count": 13,
   "metadata": {},
   "outputs": [
    {
     "data": {
      "text/plain": [
       "pandas.core.frame.DataFrame"
      ]
     },
     "execution_count": 13,
     "metadata": {},
     "output_type": "execute_result"
    }
   ],
   "source": [
    "type(dataset)\n"
   ]
  },
  {
   "cell_type": "code",
   "execution_count": 14,
   "metadata": {},
   "outputs": [],
   "source": [
    "target = (dataset.iloc[:, 12].values)"
   ]
  },
  {
   "cell_type": "code",
   "execution_count": 16,
   "metadata": {},
   "outputs": [
    {
     "data": {
      "text/plain": [
       "10000"
      ]
     },
     "execution_count": 16,
     "metadata": {},
     "output_type": "execute_result"
    }
   ],
   "source": [
    "dataset.drop(['purchase'], axis=1)\n",
    "select_index = target ==1\n",
    "#dataset\n",
    "select_index\n"
   ]
  },
  {
   "cell_type": "code",
   "execution_count": 17,
   "metadata": {},
   "outputs": [],
   "source": [
    "target_val = np.array(target)\n",
    "data = np.array(dataset)"
   ]
  },
  {
   "cell_type": "code",
   "execution_count": 18,
   "metadata": {},
   "outputs": [],
   "source": [
    "select_index = target_val ==1"
   ]
  },
  {
   "cell_type": "code",
   "execution_count": 19,
   "metadata": {},
   "outputs": [
    {
     "data": {
      "image/png": "[encoded data removed]",
      "text/plain": [
       "<Figure size 432x288 with 1 Axes>"
      ]
     },
     "metadata": {},
     "output_type": "display_data"
    }
   ],
   "source": [
    "purc_time = data[select_index,:]\n",
    "bins=100\n",
    "plt.hist(purc_time[:,3], bins) #time spent by people  who purchased only\n",
    "\n",
    "\n",
    "plt.xlabel(\"Time spent\")\n",
    "plt.ylabel(\"number of observations\")\n",
    "plt.show()"
   ]
  },
  {
   "cell_type": "code",
   "execution_count": 20,
   "metadata": {},
   "outputs": [
    {
     "data": {
      "image/png": "[encoded data removed]",
      "text/plain": [
       "<Figure size 432x288 with 1 Axes>"
      ]
     },
     "metadata": {},
     "output_type": "display_data"
    }
   ],
   "source": [
    "NoPurc_time = data[target_val ==0,:]\n",
    "plt.hist(NoPurc_time[:,3], bins, alpha=0.75)\n",
    "plt.xlabel(\"Time spent\")\n",
    "plt.ylabel(\"number of observations\")\n",
    "plt.show()"
   ]
  },
  {
   "cell_type": "code",
   "execution_count": 21,
   "metadata": {},
   "outputs": [],
   "source": [
    "mean_page_view = np.mean(data[:,2])\n",
    "median_page_view = np.median(data[:,2])\n",
    "std_dev_page_view = np.std(data[:,2])"
   ]
  },
  {
   "cell_type": "code",
   "execution_count": 22,
   "metadata": {},
   "outputs": [
    {
     "name": "stdout",
     "output_type": "stream",
     "text": [
      "3.1267\n",
      "1.0\n",
      "6.586155715590089\n"
     ]
    }
   ],
   "source": [
    "print (mean_page_view)\n",
    "print (median_page_view)\n",
    "print (std_dev_page_view)"
   ]
  },
  {
   "cell_type": "code",
   "execution_count": 23,
   "metadata": {},
   "outputs": [],
   "source": [
    "from scipy import stats"
   ]
  },
  {
   "cell_type": "code",
   "execution_count": 24,
   "metadata": {},
   "outputs": [],
   "source": [
    "stat1 = stats.describe(data[:,2])\n",
    "stat2 = stats.describe(data[:,3])\n",
    "stat3 = stats.describe(data[:,4])\n",
    "stat4 = stats.describe(data[:,5])\n",
    "stat5 = stats.describe(data[:,6])\n",
    "stat6 = stats.describe(data[:,7])"
   ]
  },
  {
   "cell_type": "code",
   "execution_count": 25,
   "metadata": {},
   "outputs": [
    {
     "name": "stdout",
     "output_type": "stream",
     "text": [
      "DescribeResult(nobs=10000, minmax=(1.0, 216.0), mean=3.1267, variance=43.381785288528846, skewness=10.41421060949879, kurtosis=195.70869847825935)\n",
      "DescribeResult(nobs=10000, minmax=(0.0, 884.7458333), mean=20.219662378954897, variance=4408.111203627734, skewness=5.933023338264963, kurtosis=43.829671954984164)\n",
      "DescribeResult(nobs=10000, minmax=(0.0, 71.0), mean=0.3328, variance=2.99854401440144, skewness=18.227146227120357, kurtosis=544.2918330107741)\n",
      "DescribeResult(nobs=10000, minmax=(0.0, 1844.0), mean=11.143860077465499, variance=4465.668799995028, skewness=10.76786722800841, kurtosis=164.76240796863976)\n",
      "DescribeResult(nobs=10000, minmax=(0.0, 43.0), mean=0.3941, variance=2.5514403340334026, skewness=9.629140240446727, kurtosis=149.0035811332939)\n",
      "DescribeResult(nobs=10000, minmax=(0.0, 19.0), mean=0.0305, variance=0.22739248924892497, skewness=24.39522679858299, kurtosis=739.2858942271167)\n"
     ]
    }
   ],
   "source": [
    "print(stat1)\n",
    "print(stat2)\n",
    "print(stat3)\n",
    "print(stat4)\n",
    "print(stat5)\n",
    "print(stat6)"
   ]
  },
  {
   "cell_type": "code",
   "execution_count": 26,
   "metadata": {},
   "outputs": [],
   "source": [
    "mean_page_view_time = np.mean(data[:,3])\n",
    "median_page_view_time = np.median(data[:,3])\n",
    "std_dev_page_view_time = np.std(data[:,3])"
   ]
  },
  {
   "cell_type": "code",
   "execution_count": 27,
   "metadata": {},
   "outputs": [],
   "source": [
    "mean_prod_view = np.mean(data[:,4])\n",
    "median_prod_view = np.median(data[:,4])\n",
    "std_dev_prod_view = np.std(data[:,4])"
   ]
  },
  {
   "cell_type": "code",
   "execution_count": 28,
   "metadata": {},
   "outputs": [],
   "source": [
    "mean_prod_view_time = np.mean(data[:,5])\n",
    "median_prod_view_time = np.median(data[:,5])\n",
    "std_dev_prod_view_time = np.std(data[:,5])"
   ]
  },
  {
   "cell_type": "code",
   "execution_count": 29,
   "metadata": {},
   "outputs": [],
   "source": [
    "mean_search = np.mean(data[:,6])\n",
    "median_search = np.median(data[:,6])\n",
    "std_dev_search = np.std(data[:,6])"
   ]
  },
  {
   "cell_type": "code",
   "execution_count": 30,
   "metadata": {},
   "outputs": [],
   "source": [
    "mean_chk_cart = np.mean(data[:,7])\n",
    "median_chk_cart = np.median(data[:,7])\n",
    "std_dev_chk_cart = np.std(data[:,7])"
   ]
  },
  {
   "cell_type": "code",
   "execution_count": 31,
   "metadata": {},
   "outputs": [
    {
     "data": {
      "text/plain": [
       "{'whiskers': [<matplotlib.lines.Line2D at 0x1a2386ac18>,\n",
       "  <matplotlib.lines.Line2D at 0x1a238760f0>],\n",
       " 'caps': [<matplotlib.lines.Line2D at 0x1a23876518>,\n",
       "  <matplotlib.lines.Line2D at 0x1a23876940>],\n",
       " 'boxes': [<matplotlib.lines.Line2D at 0x1a2386aac8>],\n",
       " 'medians': [<matplotlib.lines.Line2D at 0x1a23876d68>],\n",
       " 'fliers': [],\n",
       " 'means': []}"
      ]
     },
     "execution_count": 31,
     "metadata": {},
     "output_type": "execute_result"
    },
    {
     "data": {
      "image/png": "[encoded data removed]",
      "text/plain": [
       "<Figure size 432x288 with 1 Axes>"
      ]
     },
     "metadata": {},
     "output_type": "display_data"
    }
   ],
   "source": [
    "#data[:,3].plot(kind='box', figsize=[16,8])\n",
    "plt.boxplot(data[select_index,3], 0, '')"
   ]
  },
  {
   "cell_type": "code",
   "execution_count": 32,
   "metadata": {},
   "outputs": [
    {
     "data": {
      "text/plain": [
       "{'whiskers': [<matplotlib.lines.Line2D at 0x114dadef0>,\n",
       "  <matplotlib.lines.Line2D at 0x12107aa58>],\n",
       " 'caps': [<matplotlib.lines.Line2D at 0x12107a668>,\n",
       "  <matplotlib.lines.Line2D at 0x12107ab70>],\n",
       " 'boxes': [<matplotlib.lines.Line2D at 0x114dadcc0>],\n",
       " 'medians': [<matplotlib.lines.Line2D at 0x114daf240>],\n",
       " 'fliers': [],\n",
       " 'means': []}"
      ]
     },
     "execution_count": 32,
     "metadata": {},
     "output_type": "execute_result"
    },
    {
     "data": {
      "image/png": "[encoded data removed]",
      "text/plain": [
       "<Figure size 432x288 with 1 Axes>"
      ]
     },
     "metadata": {},
     "output_type": "display_data"
    }
   ],
   "source": [
    "#data[:,3].plot(kind='box', figsize=[16,8])\n",
    "plt.boxplot(data[target_val ==0,3], 0, '')"
   ]
  },
  {
   "cell_type": "code",
   "execution_count": 33,
   "metadata": {
    "scrolled": true
   },
   "outputs": [
    {
     "data": {
      "text/plain": [
       "{'whiskers': [<matplotlib.lines.Line2D at 0x120ffe748>,\n",
       "  <matplotlib.lines.Line2D at 0x121009128>],\n",
       " 'caps': [<matplotlib.lines.Line2D at 0x121009748>,\n",
       "  <matplotlib.lines.Line2D at 0x121009198>],\n",
       " 'boxes': [<matplotlib.lines.Line2D at 0x120ffec50>],\n",
       " 'medians': [<matplotlib.lines.Line2D at 0x121009908>],\n",
       " 'fliers': [],\n",
       " 'means': []}"
      ]
     },
     "execution_count": 33,
     "metadata": {},
     "output_type": "execute_result"
    },
    {
     "data": {
      "image/png": "[encoded data removed]",
      "text/plain": [
       "<Figure size 432x288 with 1 Axes>"
      ]
     },
     "metadata": {},
     "output_type": "display_data"
    }
   ],
   "source": [
    "plt.boxplot(data[select_index,4], 0, '')"
   ]
  },
  {
   "cell_type": "code",
   "execution_count": 34,
   "metadata": {
    "scrolled": true
   },
   "outputs": [
    {
     "data": {
      "text/plain": [
       "{'whiskers': [<matplotlib.lines.Line2D at 0x121050860>,\n",
       "  <matplotlib.lines.Line2D at 0x121050d30>],\n",
       " 'caps': [<matplotlib.lines.Line2D at 0x12105a160>,\n",
       "  <matplotlib.lines.Line2D at 0x12105a6d8>],\n",
       " 'boxes': [<matplotlib.lines.Line2D at 0x121050630>],\n",
       " 'medians': [<matplotlib.lines.Line2D at 0x12105a588>],\n",
       " 'fliers': [],\n",
       " 'means': []}"
      ]
     },
     "execution_count": 34,
     "metadata": {},
     "output_type": "execute_result"
    },
    {
     "data": {
      "image/png": "[encoded data removed]",
      "text/plain": [
       "<Figure size 432x288 with 1 Axes>"
      ]
     },
     "metadata": {},
     "output_type": "display_data"
    }
   ],
   "source": [
    "plt.boxplot(data[target_val ==0,4], 0, '')"
   ]
  },
  {
   "cell_type": "code",
   "execution_count": 107,
   "metadata": {},
   "outputs": [
    {
     "data": {
      "text/plain": [
       "{'whiskers': [<matplotlib.lines.Line2D at 0x2027efebeb8>,\n",
       "  <matplotlib.lines.Line2D at 0x2027eff4390>],\n",
       " 'caps': [<matplotlib.lines.Line2D at 0x2027eff47b8>,\n",
       "  <matplotlib.lines.Line2D at 0x2027eff4be0>],\n",
       " 'boxes': [<matplotlib.lines.Line2D at 0x2027efebd68>],\n",
       " 'medians': [<matplotlib.lines.Line2D at 0x2027effe048>],\n",
       " 'fliers': [],\n",
       " 'means': []}"
      ]
     },
     "execution_count": 107,
     "metadata": {},
     "output_type": "execute_result"
    },
    {
     "data": {
      "image/png": "[encoded data removed]",
      "text/plain": [
       "<Figure size 432x288 with 1 Axes>"
      ]
     },
     "metadata": {},
     "output_type": "display_data"
    }
   ],
   "source": [
    "plt.boxplot(data[select_index,5], 0, '')"
   ]
  },
  {
   "cell_type": "code",
   "execution_count": 106,
   "metadata": {},
   "outputs": [
    {
     "data": {
      "text/plain": [
       "{'whiskers': [<matplotlib.lines.Line2D at 0x2027ef4b6a0>,\n",
       "  <matplotlib.lines.Line2D at 0x2027ef4bb38>],\n",
       " 'caps': [<matplotlib.lines.Line2D at 0x2027ef4bf60>,\n",
       "  <matplotlib.lines.Line2D at 0x2027ef563c8>],\n",
       " 'boxes': [<matplotlib.lines.Line2D at 0x2027ef4b550>],\n",
       " 'medians': [<matplotlib.lines.Line2D at 0x2027ef567f0>],\n",
       " 'fliers': [],\n",
       " 'means': []}"
      ]
     },
     "execution_count": 106,
     "metadata": {},
     "output_type": "execute_result"
    },
    {
     "data": {
      "image/png": "[encoded data removed]",
      "text/plain": [
       "<Figure size 432x288 with 1 Axes>"
      ]
     },
     "metadata": {},
     "output_type": "display_data"
    }
   ],
   "source": [
    "plt.boxplot(data[target_val ==0,5], 0, '')"
   ]
  },
  {
   "cell_type": "code",
   "execution_count": 96,
   "metadata": {
    "scrolled": true
   },
   "outputs": [
    {
     "data": {
      "text/plain": [
       "{'whiskers': [<matplotlib.lines.Line2D at 0x2027ea56ef0>,\n",
       "  <matplotlib.lines.Line2D at 0x2027e9a83c8>],\n",
       " 'caps': [<matplotlib.lines.Line2D at 0x2027e9a87f0>,\n",
       "  <matplotlib.lines.Line2D at 0x2027e9a8c18>],\n",
       " 'boxes': [<matplotlib.lines.Line2D at 0x2027ea56da0>],\n",
       " 'medians': [<matplotlib.lines.Line2D at 0x2027e983080>],\n",
       " 'fliers': [],\n",
       " 'means': []}"
      ]
     },
     "execution_count": 96,
     "metadata": {},
     "output_type": "execute_result"
    },
    {
     "data": {
      "image/png": "[encoded data removed]",
      "text/plain": [
       "<Figure size 432x288 with 1 Axes>"
      ]
     },
     "metadata": {},
     "output_type": "display_data"
    }
   ],
   "source": [
    "plt.boxplot(data[select_index,6], 0, '')"
   ]
  },
  {
   "cell_type": "code",
   "execution_count": 104,
   "metadata": {},
   "outputs": [
    {
     "data": {
      "text/plain": [
       "{'whiskers': [<matplotlib.lines.Line2D at 0x2027f427390>,\n",
       "  <matplotlib.lines.Line2D at 0x2027f427828>],\n",
       " 'caps': [<matplotlib.lines.Line2D at 0x2027f427c50>,\n",
       "  <matplotlib.lines.Line2D at 0x2027f4310b8>],\n",
       " 'boxes': [<matplotlib.lines.Line2D at 0x2027f427240>],\n",
       " 'medians': [<matplotlib.lines.Line2D at 0x2027f4314e0>],\n",
       " 'fliers': [],\n",
       " 'means': []}"
      ]
     },
     "execution_count": 104,
     "metadata": {},
     "output_type": "execute_result"
    },
    {
     "data": {
      "image/png": "[encoded data removed]",
      "text/plain": [
       "<Figure size 432x288 with 1 Axes>"
      ]
     },
     "metadata": {},
     "output_type": "display_data"
    }
   ],
   "source": [
    "plt.boxplot(data[target_val ==0,6], 0, '')"
   ]
  },
  {
   "cell_type": "code",
   "execution_count": 108,
   "metadata": {},
   "outputs": [
    {
     "data": {
      "text/plain": [
       "{'whiskers': [<matplotlib.lines.Line2D at 0x2027f083e10>,\n",
       "  <matplotlib.lines.Line2D at 0x2027f08a2e8>],\n",
       " 'caps': [<matplotlib.lines.Line2D at 0x2027f08a710>,\n",
       "  <matplotlib.lines.Line2D at 0x2027f08ab38>],\n",
       " 'boxes': [<matplotlib.lines.Line2D at 0x2027f083cc0>],\n",
       " 'medians': [<matplotlib.lines.Line2D at 0x2027f08af60>],\n",
       " 'fliers': [],\n",
       " 'means': []}"
      ]
     },
     "execution_count": 108,
     "metadata": {},
     "output_type": "execute_result"
    },
    {
     "data": {
      "image/png": "[encoded data removed]",
      "text/plain": [
       "<Figure size 432x288 with 1 Axes>"
      ]
     },
     "metadata": {},
     "output_type": "display_data"
    }
   ],
   "source": [
    "plt.boxplot(data[select_index,7], 0, '')"
   ]
  },
  {
   "cell_type": "code",
   "execution_count": 105,
   "metadata": {},
   "outputs": [
    {
     "data": {
      "text/plain": [
       "{'whiskers': [<matplotlib.lines.Line2D at 0x2027eef5d30>,\n",
       "  <matplotlib.lines.Line2D at 0x2027eeff208>],\n",
       " 'caps': [<matplotlib.lines.Line2D at 0x2027eeff630>,\n",
       "  <matplotlib.lines.Line2D at 0x2027eeffa58>],\n",
       " 'boxes': [<matplotlib.lines.Line2D at 0x2027eef5be0>],\n",
       " 'medians': [<matplotlib.lines.Line2D at 0x2027eeffe80>],\n",
       " 'fliers': [],\n",
       " 'means': []}"
      ]
     },
     "execution_count": 105,
     "metadata": {},
     "output_type": "execute_result"
    },
    {
     "data": {
      "image/png": "[encoded data removed]",
      "text/plain": [
       "<Figure size 432x288 with 1 Axes>"
      ]
     },
     "metadata": {},
     "output_type": "display_data"
    }
   ],
   "source": [
    "plt.boxplot(data[target_val ==0,7], 0, '')"
   ]
  }
 ],
 "metadata": {
  "kernelspec": {
   "display_name": "Python 3",
   "language": "python",
   "name": "python3"
  },
  "language_info": {
   "codemirror_mode": {
    "name": "ipython",
    "version": 3
   },
   "file_extension": ".py",
   "mimetype": "text/x-python",
   "name": "python",
   "nbconvert_exporter": "python",
   "pygments_lexer": "ipython3",
   "version": "3.6.5"
  }
 },
 "nbformat": 4,
 "nbformat_minor": 2
}
